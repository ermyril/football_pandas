{
 "cells": [
  {
   "cell_type": "code",
   "execution_count": 158,
   "metadata": {},
   "outputs": [],
   "source": [
    "import pandas as pd\n",
    "import matplotlib as mpl\n",
    "\n",
    "mpl.rcParams['figure.figsize'] = [25, 20]"
   ]
  },
  {
   "cell_type": "code",
   "execution_count": null,
   "metadata": {},
   "outputs": [],
   "source": [
    "# fb = pd.read_csv('football3000k.csv', sep=',', parse_dates=['date'])\n",
    "fb = pd.read_csv('nfootball.csv', sep=',', parse_dates=['date'])\n",
    "\n",
    "\n",
    "nTop = 15 # количество срезаемых сверху запросов\n",
    "\n",
    "fb = fb.sort_values(by='date').reset_index() # сортируем по дате\n",
    "dateStart = fb.date[0]                       # получаем дату начала выборки\n",
    "dateEnd = fb.date[fb.shape[0]-1]             # получаем дату окончания выборки\n",
    "\n",
    "dateRange = pd.date_range(dateStart, dateEnd) # строим диапазон дат\n",
    "\n",
    "topQueries = set();\n",
    "for day in dateRange:\n",
    "    dayStat = fb.loc[fb['date'] == day] # выбираем запросы за текущую дату\n",
    "    dayTop = dayStat['query'].value_counts().head(nTop) # получаем топ 10 за данный день\n",
    "    topQueries = set().union(topQueries, dayTop.index)\n",
    "\n",
    "statTable = pd.DataFrame(index=dateRange, columns=topQueries)\n",
    "\n",
    "for day in dateRange:\n",
    "    dayStat = fb.loc[fb['date'] == day] # выбираем запросы за текущую дату\n",
    "    dayTop = dayStat['query'].value_counts().head(nTop) # получаем топ 10 за данный день\n",
    "    \n",
    "    for item in dayTop.items():\n",
    "        query = item[0]\n",
    "        count = item[1]\n",
    "#         print([day, query, count])\n",
    "        statTable.at[day, query] = count\n",
    "    \n",
    "statTable.plot()\n",
    "\n"
   ]
  }
 ],
 "metadata": {
  "kernelspec": {
   "display_name": "Python 3",
   "language": "python",
   "name": "python3"
  },
  "language_info": {
   "codemirror_mode": {
    "name": "ipython",
    "version": 3
   },
   "file_extension": ".py",
   "mimetype": "text/x-python",
   "name": "python",
   "nbconvert_exporter": "python",
   "pygments_lexer": "ipython3",
   "version": "3.6.7"
  }
 },
 "nbformat": 4,
 "nbformat_minor": 2
}
